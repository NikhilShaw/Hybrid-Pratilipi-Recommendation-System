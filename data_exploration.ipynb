{
  "nbformat": 4,
  "nbformat_minor": 0,
  "metadata": {
    "colab": {
      "provenance": [],
      "collapsed_sections": []
    },
    "kernelspec": {
      "name": "python3",
      "display_name": "Python 3"
    },
    "language_info": {
      "name": "python"
    }
  },
  "cells": [
    {
      "cell_type": "markdown",
      "source": [
        "## Let's explore user interaction dataset"
      ],
      "metadata": {
        "id": "D22abl8KpqSr"
      }
    },
    {
      "cell_type": "code",
      "execution_count": 3,
      "metadata": {
        "colab": {
          "base_uri": "https://localhost:8080/"
        },
        "id": "ghTalMgpmL9k",
        "outputId": "58ff7526-8a76-413b-ac47-3922a0952856"
      },
      "outputs": [
        {
          "output_type": "stream",
          "name": "stdout",
          "text": [
            "Shape of user interaction dataframe\n",
            "(10000000, 5)\n",
            "head of user interaction dataframe\n",
            "   Unnamed: 0           user_id      pratilipi_id  read_percent  \\\n",
            "0           0  5506791963854965  1377786220672965         100.0   \n",
            "1           1  5506791979071996  1377786219742624          29.0   \n",
            "2           2  5506791980256358  1377786217096334          22.0   \n",
            "3           3  5506791988747277  1377786224767880         100.0   \n",
            "4           4  5506791992372558  1377786218111595         100.0   \n",
            "\n",
            "                updated_at  \n",
            "0  2022-03-23 00:08:26.227  \n",
            "1  2022-03-23 00:08:26.220  \n",
            "2  2022-03-23 00:08:26.020  \n",
            "3  2022-03-23 00:08:25.306  \n",
            "4  2022-03-23 00:08:25.250  \n"
          ]
        }
      ],
      "source": [
        "import pandas as pd\n",
        "\n",
        "# load user interaction data\n",
        "user_interaction_filename = \"/content/drive/MyDrive/user-interactions.csv\"\n",
        "user_interaction_df = pd.read_csv(user_interaction_filename)\n",
        "\n",
        "print(\"Shape of user interaction dataframe\")\n",
        "print(user_interaction_df.shape)\n",
        "\n",
        "print(\"head of user interaction dataframe\")\n",
        "print(user_interaction_df.head())"
      ]
    },
    {
      "cell_type": "code",
      "source": [
        "# unique users in user interactions\n",
        "user_list = user_interaction_df['user_id']\n",
        "unique_users = set(user_list)\n",
        "print(\"Number of unique users in user interactions\")\n",
        "print(len(unique_users))\n",
        "\n",
        "# unique pratilipis in user interactions\n",
        "pratilipi_list = user_interaction_df[\"pratilipi_id\"]\n",
        "unique_pratilipi = set(pratilipi_list)\n",
        "print(\"Number of unique pratilipis in user interactions\")\n",
        "print(len(unique_pratilipi))\n",
        "\n",
        "# unique (user, pratilipis) in user interactions\n",
        "user_pratilipi_list = []\n",
        "for x in range(len(user_list)):\n",
        "    user_pratilipi_list.append((user_list[x], pratilipi_list[x]))\n",
        "\n",
        "print(\"Number of unique (user, pratilipis) in user interactions\")\n",
        "print(len(set(user_pratilipi_list)))\n"
      ],
      "metadata": {
        "colab": {
          "base_uri": "https://localhost:8080/"
        },
        "id": "07H1rDacnSTR",
        "outputId": "55b5b5d1-1e64-44c9-e527-6f8d39328f30"
      },
      "execution_count": 4,
      "outputs": [
        {
          "output_type": "stream",
          "name": "stdout",
          "text": [
            "Number of unique users in user interactions\n",
            "355988\n",
            "Number of unique pratilipis in user interactions\n",
            "373138\n",
            "Number of unique (user, pratilipis) in user interactions\n",
            "10000000\n"
          ]
        }
      ]
    },
    {
      "cell_type": "code",
      "source": [
        "# no of books read by a particular user\n",
        "books_read = {}\n",
        "for user in unique_users:\n",
        "    books_read[user] = 0\n",
        "\n",
        "for user in user_list:\n",
        "    books_read[user] += 1\n",
        "\n",
        "pratilipi_freq_per_user = []\n",
        "for key, val in books_read.items():\n",
        "    pratilipi_freq_per_user.append(val)\n",
        "\n",
        "print(\"Max pratilipis read by a user\")\n",
        "print(max(pratilipi_freq_per_user))\n",
        "\n",
        "print(\"Min book read by a user\")\n",
        "print(min(pratilipi_freq_per_user))\n",
        "\n",
        "print(\"average book read by a user\")\n",
        "import statistics\n",
        "print(statistics.mean(pratilipi_freq_per_user))\n",
        "\n",
        "print(\"Number of users who read more than 1000 pratilipi\")\n",
        "above_1000 = sum(freq > 1000 for freq in pratilipi_freq_per_user)\n",
        "print(above_1000)\n",
        "\n",
        "print(\"Number of users who read 500 to 1000 pratilipi\")\n",
        "above_500 = sum(freq > 500 for freq in pratilipi_freq_per_user)\n",
        "print(above_500 - above_1000)\n",
        "\n",
        "print(\"Number of users who read 100 to 500 pratilipi\")\n",
        "above_100 = sum(freq > 100 for freq in pratilipi_freq_per_user)\n",
        "print(above_100 - above_500)\n",
        "\n",
        "print(\"Number of users who read 50 to 100 pratilipi\")\n",
        "above_50 = sum(freq > 50 for freq in pratilipi_freq_per_user)\n",
        "print(above_50 - above_100)\n",
        "\n",
        "print(\"Number of users who read 20 to 50 pratilipi\")\n",
        "above_20 = sum(freq > 20 for freq in pratilipi_freq_per_user)\n",
        "print(above_20 - above_50)\n",
        "\n",
        "print(\"Number of users who less than or equal to 20 pratilipi\")\n",
        "below_or_20 = sum(freq <= 20 for freq in pratilipi_freq_per_user)\n",
        "print(below_or_20)"
      ],
      "metadata": {
        "colab": {
          "base_uri": "https://localhost:8080/"
        },
        "id": "ll5fp8wNoC9C",
        "outputId": "a6885b0f-1a53-4d44-e0d8-d75320e20f4e"
      },
      "execution_count": 5,
      "outputs": [
        {
          "output_type": "stream",
          "name": "stdout",
          "text": [
            "Max pratilipis read by a user\n",
            "1793\n",
            "Min book read by a user\n",
            "1\n",
            "average book read by a user\n",
            "28.090834522511994\n",
            "Number of users who read more than 1000 pratilipi\n",
            "30\n",
            "Number of users who read 500 to 1000 pratilipi\n",
            "660\n",
            "Number of users who read 100 to 500 pratilipi\n",
            "27074\n",
            "Number of users who read 50 to 100 pratilipi\n",
            "25564\n",
            "Number of users who read 20 to 50 pratilipi\n",
            "41183\n",
            "Number of users who less than or equal to 20 pratilipi\n",
            "261477\n"
          ]
        }
      ]
    },
    {
      "cell_type": "code",
      "source": [
        "read_percent = user_interaction_df[\"read_percent\"]\n",
        "\n",
        "unique_read_percent = sorted(list(set(read_percent)))\n",
        "print(\"Unique percent count\")\n",
        "print(len(unique_read_percent))"
      ],
      "metadata": {
        "colab": {
          "base_uri": "https://localhost:8080/"
        },
        "id": "q_NOfUZQoJDF",
        "outputId": "222f8b40-af3b-4aeb-f07f-3c846e684939"
      },
      "execution_count": 6,
      "outputs": [
        {
          "output_type": "stream",
          "name": "stdout",
          "text": [
            "Unique percent count\n",
            "24772\n"
          ]
        }
      ]
    },
    {
      "cell_type": "markdown",
      "source": [
        "read_percent are in float, round it to integer"
      ],
      "metadata": {
        "id": "wAxISitkoOjJ"
      }
    },
    {
      "cell_type": "code",
      "source": [
        "# get number of rows with read percent > 100\n",
        "above_100_count = 0\n",
        "for val in read_percent:\n",
        "    if val > 100:\n",
        "        above_100_count += 1\n",
        "print(\"Above 100 percent count\")\n",
        "print(above_100_count)\n",
        "\n",
        "# get number of rows with read percent < 0\n",
        "below_100_count = 0\n",
        "for val in read_percent:\n",
        "    if val < 0:\n",
        "        below_100_count += 1\n",
        "print(\"Below 100 percent count\")\n",
        "print(below_100_count)\n"
      ],
      "metadata": {
        "colab": {
          "base_uri": "https://localhost:8080/"
        },
        "id": "v0u26yplofVO",
        "outputId": "346c3ada-7947-498a-9143-2ee4ba821d4d"
      },
      "execution_count": 7,
      "outputs": [
        {
          "output_type": "stream",
          "name": "stdout",
          "text": [
            "Above 100 percent count\n",
            "139\n",
            "Below 100 percent count\n",
            "0\n"
          ]
        }
      ]
    },
    {
      "cell_type": "markdown",
      "source": [
        "read percent can't be greater than 0 or less than 0, remove it"
      ],
      "metadata": {
        "id": "8C_Dhq2zojbZ"
      }
    },
    {
      "cell_type": "code",
      "source": [
        "# for simplification lets round read percent to nearest integer\n",
        "read_percent_rounded = [round(rp) for rp in read_percent]\n",
        "unique_read_percent_rounded = list(set(read_percent_rounded))\n",
        "\n",
        "# count read percent frequency\n",
        "read_percent_to_freq = {}\n",
        "for val in unique_read_percent_rounded:\n",
        "    read_percent_to_freq[val] = 0\n",
        "\n",
        "for val in read_percent_rounded:\n",
        "    read_percent_to_freq[val] += 1\n",
        "\n",
        "freq_vector = [read_percent_to_freq[rp] for rp in unique_read_percent_rounded]\n",
        "\n",
        "print(\"Unique frequency percent rounded\")\n",
        "print(unique_read_percent_rounded)\n",
        "\n",
        "print(\"Frequency vector\")\n",
        "print(freq_vector)"
      ],
      "metadata": {
        "colab": {
          "base_uri": "https://localhost:8080/"
        },
        "id": "PMbT9mNem2jo",
        "outputId": "54b0dfb9-f024-4641-9a18-a3a9a00fe402"
      },
      "execution_count": 8,
      "outputs": [
        {
          "output_type": "stream",
          "name": "stdout",
          "text": [
            "Unique frequency percent rounded\n",
            "[0, 1, 2, 3, 4, 5, 6, 7, 8, 9, 10, 11, 12, 13, 14, 15, 16, 17, 18, 19, 20, 21, 22, 23, 24, 25, 26, 27, 28, 29, 30, 31, 32, 33, 34, 35, 36, 37, 38, 39, 40, 41, 42, 43, 44, 45, 46, 47, 48, 49, 50, 51, 52, 53, 54, 55, 56, 57, 58, 59, 60, 61, 62, 63, 64, 65, 66, 67, 68, 69, 70, 71, 72, 73, 74, 75, 76, 77, 78, 79, 80, 81, 82, 83, 84, 85, 86, 87, 88, 89, 90, 91, 92, 93, 94, 95, 96, 97, 98, 99, 100, 105, 106, 107, 108, 109, 110, 111, 112, 114, 117, 120, 121, 122, 123, 125, 128, 129, 130, 132, 133, 140, 143, 150, 160, 162, 167, 170, 175, 1200, 177, 180, 700, 200, 217, 225, 286, 800, 300, 2400, 900, 400, 420, 425, 600, 500]\n",
            "Frequency vector\n",
            "[37791, 886, 4601, 9382, 16965, 19904, 20936, 21138, 28934, 19304, 44675, 4762, 31597, 32809, 6994, 39433, 8582, 42348, 3699, 11304, 45476, 1991, 4889, 13730, 5080, 45925, 1208, 3900, 6932, 16127, 8179, 3928, 3253, 2240, 50171, 1924, 3742, 5362, 9600, 4071, 20363, 1350, 4563, 11397, 2242, 6866, 5138, 3877, 2131, 1021, 66644, 462, 1191, 2455, 3747, 4207, 6141, 5507, 6006, 3805, 14783, 1375, 3005, 6930, 4152, 2882, 1336, 28625, 1096, 2685, 5484, 2157, 8557, 4110, 2222, 19321, 1092, 3362, 5554, 2722, 15310, 1464, 4458, 4125, 11118, 3379, 11542, 3123, 9933, 9391, 8199, 7398, 7778, 8409, 7637, 7215, 6878, 6339, 17547, 221284, 8702999, 1, 1, 1, 2, 2, 1, 2, 4, 4, 5, 7, 1, 1, 1, 10, 1, 1, 1, 1, 15, 4, 3, 14, 1, 2, 6, 1, 1, 1, 1, 2, 3, 8, 1, 1, 1, 7, 5, 1, 1, 5, 1, 1, 3, 3]\n"
          ]
        }
      ]
    },
    {
      "cell_type": "code",
      "source": [
        "# let's plot it\n",
        "import matplotlib.pyplot as plt\n",
        "\n",
        "plt.bar(unique_read_percent_rounded, freq_vector)\n",
        "plt.xlim([0, 100])\n",
        "plt.ylim([0, 50000])\n",
        "plt.show()"
      ],
      "metadata": {
        "colab": {
          "base_uri": "https://localhost:8080/",
          "height": 269
        },
        "id": "L1XpaeRSodhX",
        "outputId": "519e5663-830a-4670-b06c-674712fe6a12"
      },
      "execution_count": 13,
      "outputs": [
        {
          "output_type": "display_data",
          "data": {
            "text/plain": [
              "<Figure size 432x288 with 1 Axes>"
            ],
            "image/png": "[encoded data removed]"
          },
          "metadata": {
            "needs_background": "light"
          }
        }
      ]
    },
    {
      "cell_type": "markdown",
      "source": [
        "## Let's explore metadata dataset"
      ],
      "metadata": {
        "id": "pr86Z_vnqBsJ"
      }
    },
    {
      "cell_type": "code",
      "source": [
        "import pandas as pd\n",
        "\n",
        "# load metadata\n",
        "metadata_filename = \"/content/drive/MyDrive/metadata.csv\"\n",
        "metadata_df = pd.read_csv(metadata_filename)\n",
        "\n",
        "print(\"Shape of user interaction dataframe\")\n",
        "print(metadata_df.shape)\n",
        "\n",
        "print(\"Head of user interaction dataframe\")\n",
        "print(metadata_df.head())"
      ],
      "metadata": {
        "colab": {
          "base_uri": "https://localhost:8080/"
        },
        "id": "u4HZFs_IqAkv",
        "outputId": "bea6e6f0-c346-4377-d87a-c9878da6c13c"
      },
      "execution_count": 1,
      "outputs": [
        {
          "output_type": "stream",
          "name": "stdout",
          "text": [
            "Shape of user interaction dataframe\n",
            "(954501, 6)\n",
            "Head of user interaction dataframe\n",
            "          author_id      pratilipi_id category_name  reading_time  \\\n",
            "0 -3418949279741297  1025741862639304   translation             0   \n",
            "1 -2270332351871840  1377786215601277   translation           171   \n",
            "2 -2270332352037261  1377786215601962   translation            92   \n",
            "3 -2270332352521845  1377786215640994   translation             0   \n",
            "4 -2270332349665658  1377786215931338   translation            47   \n",
            "\n",
            "            updated_at         published_at  \n",
            "0  2020-08-19 15:26:13  2016-09-30 10:37:04  \n",
            "1  2021-01-21 16:27:07  2018-06-11 13:17:48  \n",
            "2  2020-09-29 12:33:57  2018-06-12 04:19:12  \n",
            "3  2019-10-17 09:03:37  2019-09-26 14:58:53  \n",
            "4  2020-05-05 11:33:41  2018-11-25 12:28:23  \n"
          ]
        }
      ]
    },
    {
      "cell_type": "code",
      "source": [
        "# unique authors in metadata\n",
        "author_list = metadata_df['author_id']\n",
        "unique_authors = set(author_list)\n",
        "print(\"Number of unique authors in metadata\")\n",
        "print(len(unique_authors))\n",
        "\n",
        "# unique pratilipis in metadata\n",
        "pratilipi_list = metadata_df[\"pratilipi_id\"]\n",
        "unique_pratilipi = set(pratilipi_list)\n",
        "print(\"Number of unique pratilipis in metadata\")\n",
        "print(len(unique_pratilipi))\n",
        "\n",
        "# unique (author, pratilipis) in metadata\n",
        "author_pratilipi_list = []\n",
        "for x in range(len(author_list)):\n",
        "    author_pratilipi_list.append((author_list[x], pratilipi_list[x]))\n",
        "\n",
        "print(\"Number of unique (author, pratilipis) in metadata\")\n",
        "print(len(set(user_pratilipi_list)))"
      ],
      "metadata": {
        "colab": {
          "base_uri": "https://localhost:8080/"
        },
        "id": "0f3ulb8DpoyR",
        "outputId": "7fc904c8-15c5-4649-e327-3f39824b29db"
      },
      "execution_count": 14,
      "outputs": [
        {
          "output_type": "stream",
          "name": "stdout",
          "text": [
            "Number of unique authors in metadata\n",
            "64900\n",
            "Number of unique pratilipis in metadata\n",
            "486693\n",
            "Number of unique (author, pratilipis) in metadata\n",
            "10000000\n"
          ]
        }
      ]
    },
    {
      "cell_type": "code",
      "source": [
        "read_time = metadata_df[\"reading_time\"]\n",
        "\n",
        "print(\"Number of rows with < 0 seconds\")\n",
        "print(sum(1 for i in read_time if i == 0))\n",
        "\n",
        "print(\"Number of rows with read time == 0 seconds\")\n",
        "print(sum(1 for i in read_time if i == 0))\n",
        "\n",
        "print(\"Number of rows with read time > 0 sec and read time < 2 mins\")\n",
        "print(sum(1 for i in read_time if i > 0 and i < 120))\n",
        "\n",
        "print(\"Number of rows with read time > 2 mins and read time < 10 mins\")\n",
        "print(sum(1 for i in read_time if i > 0 and i < 10*60))\n",
        "\n",
        "print(\"Number of rows with read_time >= 10 mins and read_time < 30 mins\")\n",
        "print(sum(1 for i in read_time if i >= 10*60 and i < 30*60))\n",
        "\n",
        "print(\"Number of rows with read_time >= 30 mins and read_time < 120 mins\")\n",
        "print(sum(1 for i in read_time if i >= 30*60 and i < 120*60))\n",
        "\n",
        "print(\"Number of rows with read time > 120 mins\")\n",
        "print(sum(1 for i in read_time if i > 120*60))"
      ],
      "metadata": {
        "colab": {
          "base_uri": "https://localhost:8080/"
        },
        "id": "D3wFVcs0xK3d",
        "outputId": "cde5a334-4a1a-4337-aa1e-a4bdadf4e888"
      },
      "execution_count": 17,
      "outputs": [
        {
          "output_type": "stream",
          "name": "stdout",
          "text": [
            "Number of rows with < 0 seconds\n",
            "4055\n",
            "Number of rows with read time == 0 seconds\n",
            "4055\n",
            "Number of rows with read time > 0 sec and read time < 2 mins\n",
            "251173\n",
            "Number of rows with read time > 2 mins and read time < 10 mins\n",
            "797104\n",
            "Number of rows with read_time >= 10 mins and read_time < 30 mins\n",
            "145022\n",
            "Number of rows with read_time >= 30 mins and read_time < 120 mins\n",
            "7844\n",
            "Number of rows with read time > 120 mins\n",
            "476\n"
          ]
        }
      ]
    }
  ]
}